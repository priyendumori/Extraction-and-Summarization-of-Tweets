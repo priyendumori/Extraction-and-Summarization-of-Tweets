{
 "cells": [
  {
   "cell_type": "code",
   "execution_count": 2,
   "metadata": {},
   "outputs": [],
   "source": [
    "from nltk.tokenize import word_tokenize"
   ]
  },
  {
   "cell_type": "code",
   "execution_count": 3,
   "metadata": {},
   "outputs": [],
   "source": [
    "import gensim\n",
    "import nltk\n",
    "import pandas as pd\n",
    "import numpy as np"
   ]
  },
  {
   "cell_type": "code",
   "execution_count": 4,
   "metadata": {},
   "outputs": [],
   "source": [
    "from nltk import RegexpTokenizer\n",
    "from nltk.corpus import stopwords\n",
    "from os import listdir\n",
    "from os.path import isfile, join"
   ]
  },
  {
   "cell_type": "code",
   "execution_count": 5,
   "metadata": {},
   "outputs": [],
   "source": [
    "from gensim.models.doc2vec import Doc2Vec, TaggedDocument"
   ]
  },
  {
   "cell_type": "code",
   "execution_count": 6,
   "metadata": {},
   "outputs": [],
   "source": [
    "from os import listdir\n",
    "from os.path import isfile, join"
   ]
  },
  {
   "cell_type": "code",
   "execution_count": 7,
   "metadata": {},
   "outputs": [
    {
     "name": "stdout",
     "output_type": "stream",
     "text": [
      "23868\n"
     ]
    }
   ],
   "source": [
    "docLabels = []\n",
    "docLabels = [f for f in listdir(\"folder\") if f.endswith('.txt')]\n",
    "# print(len(docLabels))"
   ]
  },
  {
   "cell_type": "code",
   "execution_count": 8,
   "metadata": {},
   "outputs": [],
   "source": [
    "data = []\n",
    "for doc in docLabels:\n",
    "    File_object = open(\"folder/\"+doc,'r')\n",
    "    str = File_object.read()\n",
    "    data.append(str)\n",
    "    File_object.close()"
   ]
  },
  {
   "cell_type": "code",
   "execution_count": 9,
   "metadata": {},
   "outputs": [],
   "source": [
    "data1 = []\n",
    "for d in data:\n",
    "    data1.append(d)"
   ]
  },
  {
   "cell_type": "code",
   "execution_count": 10,
   "metadata": {},
   "outputs": [],
   "source": [
    "documents = [TaggedDocument(doc, [i]) for i, doc in enumerate(data1)]\n",
    "\n",
    "# run this to train model\n",
    "# model = Doc2Vec(documents, vector_size=20, window=2, min_count=1, workers=4)"
   ]
  },
  {
   "cell_type": "code",
   "execution_count": 11,
   "metadata": {},
   "outputs": [],
   "source": [
    "# from gensim.test.utils import get_tmpfile\n",
    "# fname = get_tmpfile(\"my_doc2vec_model\")\n",
    "# model.save('./m')\n",
    "# fname = open('./m','r')\n",
    "# model = Doc2Vec.load(fname)\n",
    "model= Doc2Vec.load(\"m\")"
   ]
  },
  {
   "cell_type": "code",
   "execution_count": 12,
   "metadata": {},
   "outputs": [
    {
     "name": "stdout",
     "output_type": "stream",
     "text": [
      "[ 0.12184766  0.0252721   0.15809476 -0.00286407 -0.04009556  0.09752898\n",
      " -0.03994815 -0.01359312  0.30080342 -0.16080178]\n"
     ]
    }
   ],
   "source": [
    "vector = model.infer_vector(documents[0][0].split())\n",
    "print(vector)"
   ]
  },
  {
   "cell_type": "code",
   "execution_count": 22,
   "metadata": {},
   "outputs": [
    {
     "name": "stdout",
     "output_type": "stream",
     "text": [
      "[ 0.03713439  0.03970782  0.08871136 -0.00463258  0.04286084  0.1570441\n",
      " -0.16037993 -0.05416599  0.25051513 -0.04126745]\n"
     ]
    }
   ],
   "source": [
    "temp = \"I am happy\"\n",
    "vector0 = model.infer_vector(temp.split())\n",
    "print(vector0)"
   ]
  },
  {
   "cell_type": "code",
   "execution_count": 23,
   "metadata": {},
   "outputs": [
    {
     "name": "stdout",
     "output_type": "stream",
     "text": [
      "[ 0.02119578 -0.0218446   0.025229    0.03242958 -0.00688438  0.03302763\n",
      " -0.00647147  0.03865442 -0.033907    0.00499388]\n"
     ]
    }
   ],
   "source": [
    "temp = \"I am very delighted\"\n",
    "vector1 = model.infer_vector(temp.split())\n",
    "print(vector1)"
   ]
  },
  {
   "cell_type": "code",
   "execution_count": 24,
   "metadata": {},
   "outputs": [
    {
     "ename": "SyntaxError",
     "evalue": "EOL while scanning string literal (<ipython-input-24-8035336319ef>, line 1)",
     "output_type": "error",
     "traceback": [
      "\u001b[0;36m  File \u001b[0;32m\"<ipython-input-24-8035336319ef>\"\u001b[0;36m, line \u001b[0;32m1\u001b[0m\n\u001b[0;31m    temp = \"East Anglia set to be major waste dump storing radioactive waste from new reactors planned for Sizewell & Bradwell for 150yrs+ Both sites in environmentally sensitive areas & projected to flood\u001b[0m\n\u001b[0m                                                                                                                                                                                                              ^\u001b[0m\n\u001b[0;31mSyntaxError\u001b[0m\u001b[0;31m:\u001b[0m EOL while scanning string literal\n"
     ]
    }
   ],
   "source": [
    "temp = \"My name is shubham\"\n",
    "vector2 = model.infer_vector(temp.split())\n",
    "print(vector2)"
   ]
  },
  {
   "cell_type": "code",
   "execution_count": 25,
   "metadata": {},
   "outputs": [
    {
     "name": "stdout",
     "output_type": "stream",
     "text": [
      "-0.09838163107633591\n",
      "-0.08931870758533478\n"
     ]
    }
   ],
   "source": [
    "from scipy import spatial\n",
    "result0 = 1 - spatial.distance.cosine(vector0, vector1)\n",
    "print(result0)\n",
    "result1 = 1 - spatial.distance.cosine(vector0, vector2)\n",
    "print(result1)"
   ]
  },
  {
   "cell_type": "code",
   "execution_count": 26,
   "metadata": {},
   "outputs": [
    {
     "name": "stdout",
     "output_type": "stream",
     "text": [
      "-0.098381616\n",
      "-0.08931871\n"
     ]
    }
   ],
   "source": [
    "from numpy import dot\n",
    "from numpy.linalg import norm\n",
    "cos_sim = dot(vector0, vector1)/(norm(vector0)*norm(vector1))\n",
    "print(cos_sim)\n",
    "cos_sim = dot(vector0, vector2)/(norm(vector0)*norm(vector2))\n",
    "print(cos_sim)"
   ]
  },
  {
   "cell_type": "code",
   "execution_count": null,
   "metadata": {},
   "outputs": [],
   "source": []
  }
 ],
 "metadata": {
  "kernelspec": {
   "display_name": "Python 3",
   "language": "python",
   "name": "python3"
  },
  "language_info": {
   "codemirror_mode": {
    "name": "ipython",
    "version": 3
   },
   "file_extension": ".py",
   "mimetype": "text/x-python",
   "name": "python",
   "nbconvert_exporter": "python",
   "pygments_lexer": "ipython3",
   "version": "3.7.2"
  }
 },
 "nbformat": 4,
 "nbformat_minor": 2
}
